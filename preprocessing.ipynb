{
 "cells": [
  {
   "cell_type": "code",
   "execution_count": 1,
   "metadata": {},
   "outputs": [
    {
     "name": "stderr",
     "output_type": "stream",
     "text": [
      "Processing 1000: 100%|██████████| 40/40 [00:00<00:00, 40.89it/s]\n",
      "Processing 2000: 100%|██████████| 40/40 [00:00<00:00, 41.40it/s]\n",
      "Processing 5000: 100%|██████████| 40/40 [00:01<00:00, 39.91it/s]\n",
      "Processing 10000: 100%|██████████| 40/40 [00:00<00:00, 40.82it/s]\n",
      "Processing 20000: 100%|██████████| 40/40 [00:00<00:00, 42.12it/s]\n",
      "Processing 50000: 100%|██████████| 40/40 [00:00<00:00, 41.70it/s]\n",
      "Processing 100000: 100%|██████████| 40/40 [00:00<00:00, 45.54it/s]"
     ]
    },
    {
     "name": "stdout",
     "output_type": "stream",
     "text": [
      "Edge detection preprocessing completed.\n"
     ]
    },
    {
     "name": "stderr",
     "output_type": "stream",
     "text": [
      "\n"
     ]
    }
   ],
   "source": [
    "import cv2\n",
    "import os\n",
    "import numpy as np\n",
    "from tqdm import tqdm\n",
    "from pathlib import Path\n",
    "\n",
    "# Define directories\n",
    "raw_dir = 'dataset/raw'\n",
    "output_dir = 'dataset/edge_detection'\n",
    "\n",
    "# Define classes\n",
    "classes = ['1000', '2000', '5000', '10000', '20000', '50000', '100000']\n",
    "\n",
    "# Create output directory structure\n",
    "Path(output_dir).mkdir(parents=True, exist_ok=True)\n",
    "for cls in classes:\n",
    "    Path(os.path.join(output_dir, cls)).mkdir(parents=True, exist_ok=True)\n",
    "\n",
    "# Edge detection function using Canny\n",
    "def apply_edge_detection(image):\n",
    "    # Convert image to grayscale\n",
    "    gray = cv2.cvtColor(image, cv2.COLOR_BGR2GRAY)\n",
    "    # Apply Canny edge detection\n",
    "    edges = cv2.Canny(gray, threshold1=20, threshold2=100)\n",
    "    return edges\n",
    "\n",
    "# Loop through each class\n",
    "for cls in classes:\n",
    "    raw_class_dir = os.path.join(raw_dir, cls)\n",
    "    output_class_dir = os.path.join(output_dir, cls)\n",
    "    \n",
    "    # Process each image in the class folder\n",
    "    for img_name in tqdm(os.listdir(raw_class_dir), desc=f'Processing {cls}'):\n",
    "        img_path = os.path.join(raw_class_dir, img_name)\n",
    "        \n",
    "        # Read the image\n",
    "        image = cv2.imread(img_path)\n",
    "        if image is None:\n",
    "            continue  # Skip if the image can't be loaded\n",
    "\n",
    "        # Apply edge detection\n",
    "        edges = apply_edge_detection(image)\n",
    "\n",
    "        # Save the processed image to the edge_detection directory\n",
    "        output_img_path = os.path.join(output_class_dir, img_name)\n",
    "        cv2.imwrite(output_img_path, edges)\n",
    "\n",
    "print(\"Edge detection preprocessing completed.\")"
   ]
  }
 ],
 "metadata": {
  "kernelspec": {
   "display_name": "Python 3",
   "language": "python",
   "name": "python3"
  },
  "language_info": {
   "codemirror_mode": {
    "name": "ipython",
    "version": 3
   },
   "file_extension": ".py",
   "mimetype": "text/x-python",
   "name": "python",
   "nbconvert_exporter": "python",
   "pygments_lexer": "ipython3",
   "version": "3.10.11"
  }
 },
 "nbformat": 4,
 "nbformat_minor": 2
}
